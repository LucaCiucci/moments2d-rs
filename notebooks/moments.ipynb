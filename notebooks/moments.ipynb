{
 "cells": [
  {
   "attachments": {},
   "cell_type": "markdown",
   "metadata": {},
   "source": [
    "# Moments calculation\n",
    "\n",
    "## Introduction\n",
    "\n",
    "Given a polygon that defines a closed path $\\partial \\Sigma$ containing the region $\\Sigma$, we define the moment $M_{ij}$ as the integral:\n",
    "$$\n",
    "    M_{ij} = \\int_{\\Sigma} x^i y^j d^2\\Sigma\n",
    "$$\n",
    "just like for the [OpenCV Moments](https://docs.opencv.org/3.4/d8/d23/classcv_1_1Moments.html) struct.\n",
    "\n",
    "## Computation\n",
    "\n",
    "To compute the moments, we want to use the [Stokes Theorem] to compute the integral of the polygon as a sum over the edges of the polygon.\n",
    "\n",
    "In our case, we have\n",
    "$$\n",
    "    \\frac{\\partial F_y}{\\partial x} - \\frac{\\partial F_x}{\\partial y} = x^i y^j\n",
    "$$\n",
    "where $F_x$ and $F_y$ are the first fundamental forms of the polygon. (??)\n",
    "\n",
    "Now, the [Stokes Theorem] states that the integral of the above expression over the polygon is equal to the line integral of the vector field $(F_y, F_x)$ around the polygon:\n",
    "$$\n",
    "    \\int_{\\Sigma} x^i y^j dx\\,dy =\n",
    "    \\oint_{\\partial \\Sigma} \\mathbf{F} \\cdot d\\mathbf{\\ell} =\n",
    "    \\sum_{S \\in \\partial \\Sigma} \\int_{S} \\mathbf{F} \\cdot d\\mathbf{\\ell}\n",
    "$$\n",
    "Where $S$ is a segment of the polygon boundary.\n",
    "\n",
    "The problem is now reduced to finding the vector field $\\mathbf{F}$ and the line integral over one segment.\n",
    "\n",
    "[Stokes Theorem]: https://en.wikipedia.org/wiki/Stokes%27_theorem"
   ]
  },
  {
   "attachments": {},
   "cell_type": "markdown",
   "metadata": {},
   "source": [
    "### Initial setup"
   ]
  },
  {
   "cell_type": "code",
   "execution_count": null,
   "metadata": {},
   "outputs": [],
   "source": [
    "import sympy as sp                       # symbolic math\n",
    "from sympy import Symbol, Expr, Function # for math types\n",
    "from IPython.display import Math, Latex  # for displaying math\n",
    "import numpy as np                       # for numerical math\n",
    "import typing as tp                      # for typing\n",
    "\n",
    "#sp.init_printing(use_latex='mathjax')\n",
    "sp.init_printing()"
   ]
  },
  {
   "attachments": {},
   "cell_type": "markdown",
   "metadata": {},
   "source": [
    "Some constants"
   ]
  },
  {
   "cell_type": "code",
   "execution_count": null,
   "metadata": {},
   "outputs": [],
   "source": [
    "# orders more that 4 could take a long time to compute\n",
    "MAX_ORDER = 2\n",
    "\n",
    "# The symbols used for the final solution simplification, higher orders might require more symbols\n",
    "UTILITY_SYMBOLS=[sp.symbols('d' + str(i)) for i in range(1, 201)]"
   ]
  },
  {
   "attachments": {},
   "cell_type": "markdown",
   "metadata": {},
   "source": [
    "Here we define some symbols"
   ]
  },
  {
   "cell_type": "code",
   "execution_count": null,
   "metadata": {},
   "outputs": [],
   "source": [
    "# variables\n",
    "x, y = sp.symbols('x y')\n",
    "t = sp.symbols('t')\n",
    "\n",
    "# exponents\n",
    "i, j = sp.symbols('i j', positive=True, integer=True)\n",
    "\n",
    "# segment points\n",
    "x0, y0 = sp.symbols('x_0 y_0')\n",
    "x1, y1 = sp.symbols('x_1 y_1')\n",
    "delta_x, delta_y = sp.symbols('Delta_x Delta_y')"
   ]
  },
  {
   "attachments": {},
   "cell_type": "markdown",
   "metadata": {},
   "source": [
    "### Solving the 1-form\n",
    "\n",
    "We now want to find the 1-form by satisfying the following condition:\n",
    "$$\n",
    "\\frac{\\partial F_y}{\\partial x} - \\frac{\\partial F_x}{\\partial y} = x^i y^j\n",
    "$$\n",
    "There are two particularly simple solutions that can be found by imposing $F_x = 0$ and $F_y = 0$ respectively:"
   ]
  },
  {
   "cell_type": "code",
   "execution_count": null,
   "metadata": {},
   "outputs": [],
   "source": [
    "integrand = x**i * y**j\n",
    "sol_1 = sp.Matrix([[0], [sp.integrate(integrand, x)]])\n",
    "sol_2 = sp.Matrix([[sp.integrate(-integrand, y)], [0]])\n",
    "print('Solution 1')\n",
    "display(sol_1)\n",
    "print('Solution 2')\n",
    "display(sol_2)"
   ]
  },
  {
   "attachments": {},
   "cell_type": "markdown",
   "metadata": {},
   "source": [
    "Sometimes, particular combinations of these two are useful, we guess that `(sol_1 + sol_2) / 2` is a good candidate."
   ]
  },
  {
   "cell_type": "code",
   "execution_count": null,
   "metadata": {},
   "outputs": [],
   "source": [
    "SOLUTIONS = [sol_1, sol_2, (sol_1 + sol_2) / 2]\n",
    "display(SOLUTIONS)"
   ]
  },
  {
   "attachments": {},
   "cell_type": "markdown",
   "metadata": {},
   "source": [
    "We now have to integrate it over a segment of the curve.\n",
    "$$\n",
    "\\int_S \\mathbf{F} \\cdot d\\mathbf{\\ell}\n",
    "$$\n",
    "Where $S$ is the segment of the curve.\n",
    "\n",
    "We define an utility function to find the integral for a given $i$ and $j$."
   ]
  },
  {
   "cell_type": "code",
   "execution_count": null,
   "metadata": {},
   "outputs": [],
   "source": [
    "def integrate_over_segment(sol: Expr, x0: Expr, y0: Expr, x1: Expr, y1: Expr, i_val: int, j_val: int) -> Expr :\n",
    "    xt = x0 + t * (x1 - x0)\n",
    "    yt = y0 + t * (y1 - y0)\n",
    "    delta_y = y1 - y0\n",
    "    delta_x = x1 - x0\n",
    "\n",
    "    sol = sol.subs(x, xt).subs(y, yt).subs(i, i_val).subs(j, j_val)\n",
    "    #display(sol)\n",
    "\n",
    "    integrand = sol[0, 0] * delta_x + sol[1, 0] * delta_y\n",
    "    #display(integrand)\n",
    "\n",
    "    integral = sp.integrate(integrand, (t, 0, 1))\n",
    "    #display(integral)\n",
    "\n",
    "    return integral"
   ]
  },
  {
   "attachments": {},
   "cell_type": "markdown",
   "metadata": {},
   "source": [
    "As an example, we can try to find the integrals for $i = j = 0$ and use the `factor` function to simplify the result.\n",
    "\n",
    "> Note: useful functions: `simplify`, `collect`, `factor`, `cse`"
   ]
  },
  {
   "cell_type": "code",
   "execution_count": null,
   "metadata": {},
   "outputs": [],
   "source": [
    "I1 = integrate_over_segment(sol_1, x0, y0, x1, y1, 0, 0).factor()\n",
    "I2 = integrate_over_segment(sol_2, x0, y0, x1, y1, 0, 0).factor()\n",
    "I3 = integrate_over_segment(SOLUTIONS[2], x0, y0, x1, y1, 0, 0).factor()\n",
    "display(I1, I2, I3)"
   ]
  },
  {
   "attachments": {},
   "cell_type": "markdown",
   "metadata": {},
   "source": [
    "We notice that the two results are not the same, but the overall sum is the same. To numerically test this, we can take a bunch of points:"
   ]
  },
  {
   "cell_type": "code",
   "execution_count": null,
   "metadata": {},
   "outputs": [],
   "source": [
    "def curve(t: float) -> tp.Tuple[float, float]:\n",
    "    return (np.cos(t * 2 * np.pi), np.sin(t * 2 * np.pi))\n",
    "PTS = np.array([curve(t) for t in np.linspace(0, 1, 100)])\n",
    "def segment_integral_1(x0_value: float, y0_value: float, x1_value: float, y1_value: float) -> float:\n",
    "    return I1.evalf(subs={x0: x0_value, y0: y0_value, x1: x1_value, y1: y1_value})\n",
    "def segment_integral_2(x0_value: float, y0_value: float, x1_value: float, y1_value: float) -> float:\n",
    "    return I2.evalf(subs={x0: x0_value, y0: y0_value, x1: x1_value, y1: y1_value})\n",
    "\n",
    "def compute_area_1() -> float:\n",
    "    area = 0\n",
    "    for i in range(PTS.shape[0] - 1):\n",
    "        area += segment_integral_1(PTS[i, 0], PTS[i, 1], PTS[i + 1, 0], PTS[i + 1, 1])\n",
    "    return area\n",
    "def compute_area_2() -> float:\n",
    "    area = 0\n",
    "    for i in range(PTS.shape[0] - 1):\n",
    "        area += segment_integral_2(PTS[i, 0], PTS[i, 1], PTS[i + 1, 0], PTS[i + 1, 1])\n",
    "    return area\n",
    "\n",
    "print('Area 1:', compute_area_1())\n",
    "print('Area 2:', compute_area_2())\n",
    "print('pi    :', np.pi)"
   ]
  },
  {
   "attachments": {},
   "cell_type": "markdown",
   "metadata": {},
   "source": [
    "We can now build a table with all the integrals for each $i$ and $j$ of every solution of $\\mathbf{F}$:"
   ]
  },
  {
   "cell_type": "code",
   "execution_count": null,
   "metadata": {},
   "outputs": [],
   "source": [
    "def solution_matrix(sol: Expr, N: int) -> Expr:\n",
    "    M = sp.zeros(N + 1, N + 1)\n",
    "    for i in range(N + 1):\n",
    "        for j in range(N + 1):\n",
    "            I = integrate_over_segment(sol, x0, y0, x1, y1, i, j)\n",
    "            I = I.factor()\n",
    "            M[i, j] = I\n",
    "    return M\n",
    "def display_solution(sol: Expr, N: int):\n",
    "    display(solution_matrix(sol, N))\n",
    "print('Solutions for orders 0 to', MAX_ORDER)\n",
    "for solution in SOLUTIONS:\n",
    "    display_solution(solution, MAX_ORDER)"
   ]
  },
  {
   "attachments": {},
   "cell_type": "markdown",
   "metadata": {},
   "source": [
    "Unfortunately, none of this solutions looks particularly beautiful. Also, we have shown how the overall sum will be the same for each of this, but which is the best? Which of this gives the minimum error?\n",
    "\n",
    "To answer this question, we can try to somehow remove the terms that will not contribute to the overall sum. We can do this by considering the following figure:\n",
    "\n",
    "![polygon_manipulation](./polygon_manipulation.svg)\n",
    "\n",
    "The blue contour is the polygon that we want to integrate. The line integral over the contour will compute the original integral over the surface $\\Sigma$ delimited by the polygon.  \n",
    "If we add a two overlapped segments $S_0$ and $-S_0$ to the contour (violet line) the integral over $\\Sigma$ will be the same ase we are adding an null measure to the contour. This can be shown by observing that $I_{S_0} = -I_{-S_0}$. We can show this explicitly:"
   ]
  },
  {
   "cell_type": "code",
   "execution_count": null,
   "metadata": {},
   "outputs": [],
   "source": [
    "I_S0 = integrate_over_segment(SOLUTIONS[0], x0, y0, x1, y1, 0, 0).factor()\n",
    "I_mS0 = integrate_over_segment(SOLUTIONS[0], x1, y1, x0, y0, 0, 0).factor()\n",
    "display(I_S0, I_mS0)\n",
    "print(sp.Eq(I_S0, -I_mS0))"
   ]
  },
  {
   "attachments": {},
   "cell_type": "markdown",
   "metadata": {},
   "source": [
    "Now we could use this fact to try to remove the terms that will not contribute to the overall sum. In particular, we can recall that we have found the solutions by integrating the differential equation imposing $\\mathbf{F}(0) = 0$, we have to remenber this in the next step.\n",
    "\n",
    "We now insert a segment $S_0$ and $-S_0$ that touches the origin an extremity of a segment for each segment of the contour. The overall integral will be the same as before, but it is now written:\n",
    "$$\n",
    "\\oint_{\\partial \\Sigma} = \\sum \\int_{S_{0, n}} + \\int_{S_n} + \\int_{-S_{0, n}} = \\sum I_{S_{0, n}} + I_{S_n} + I_{-S_{0, n}}\n",
    "$$\n",
    "The fact that $\\mathbf{F}(0) = 0$ will cancel out all the unwanted terms.\n",
    "\n",
    "We also notice that this is equivalent to evaluate this integrals over a bunch of triangles connected to the origin and summing altogether."
   ]
  },
  {
   "cell_type": "code",
   "execution_count": null,
   "metadata": {},
   "outputs": [],
   "source": [
    "def solution_matrix_simplified(sol: Expr, N: int) -> Expr:\n",
    "    M = solution_matrix(sol, N)\n",
    "    for i in range(M.shape[0]):\n",
    "        for j in range(M.shape[1]):\n",
    "            I = M[i, j]\n",
    "            I_S0 = I.subs(x0, 0).subs(y0, 0).subs(x1, x0).subs(y1, y0)\n",
    "            I_S = I\n",
    "            I_mS0 = I.subs(x1, 0).subs(y1, 0).subs(x0, x1).subs(y0, y1)\n",
    "            I = I_S0 + I_S + I_mS0\n",
    "            M[i, j] = I.expand().simplify().factor()\n",
    "    return M\n",
    "M_SOLUTIONS = []\n",
    "for solution in SOLUTIONS:\n",
    "    M_SOLUTIONS.append(solution_matrix_simplified(solution, MAX_ORDER))\n",
    "def are_same():\n",
    "    for i in range(len(M_SOLUTIONS)):\n",
    "        for j in range(i + 1, len(M_SOLUTIONS)):\n",
    "            if not sp.Eq(M_SOLUTIONS[i], M_SOLUTIONS[j]):\n",
    "                return False\n",
    "    return True\n",
    "print('Solutions are the same:', are_same())"
   ]
  },
  {
   "cell_type": "code",
   "execution_count": null,
   "metadata": {},
   "outputs": [],
   "source": [
    "M_SOLUTIONS = M_SOLUTIONS[0]\n",
    "print('Solution for orders 0 to', MAX_ORDER)\n",
    "display(M_SOLUTIONS)\n",
    "\n",
    "(defs, simplified) = sp.cse(M_SOLUTIONS, UTILITY_SYMBOLS)\n",
    "print(\"simplified:\")\n",
    "display(simplified)\n",
    "print(\"where:\")\n",
    "display(defs)"
   ]
  },
  {
   "attachments": {},
   "cell_type": "markdown",
   "metadata": {},
   "source": [
    "## Code generation\n",
    "\n",
    "We now want to generate some useful code from the above results.\n",
    "\n",
    "First, we write the code for the defines:"
   ]
  },
  {
   "cell_type": "code",
   "execution_count": null,
   "metadata": {},
   "outputs": [],
   "source": [
    "for definition in defs:\n",
    "    symbol, value = definition\n",
    "    print(sp.ccode(symbol), '=', sp.ccode(value))"
   ]
  },
  {
   "attachments": {},
   "cell_type": "markdown",
   "metadata": {},
   "source": [
    "An then we can generate the code for the integrals:"
   ]
  },
  {
   "cell_type": "code",
   "execution_count": null,
   "metadata": {},
   "outputs": [],
   "source": [
    "for i in range(simplified[0].shape[0]):\n",
    "    for j in range(simplified[0].shape[1]):\n",
    "        print('I[', i, '][', j, '] = ', sp.ccode(simplified[0][i, j]), ';', sep='')"
   ]
  }
 ],
 "metadata": {
  "kernelspec": {
   "display_name": "Python 3",
   "language": "python",
   "name": "python3"
  },
  "language_info": {
   "codemirror_mode": {
    "name": "ipython",
    "version": 3
   },
   "file_extension": ".py",
   "mimetype": "text/x-python",
   "name": "python",
   "nbconvert_exporter": "python",
   "pygments_lexer": "ipython3",
   "version": "3.11.1"
  },
  "orig_nbformat": 4
 },
 "nbformat": 4,
 "nbformat_minor": 2
}
